{
 "cells": [
  {
   "cell_type": "markdown",
   "id": "50ae5f42",
   "metadata": {},
   "source": [
    "### Data cleaning"
   ]
  },
  {
   "cell_type": "code",
   "execution_count": 2,
   "id": "3c71b4fc",
   "metadata": {},
   "outputs": [],
   "source": [
    "import pandas as pd\n",
    "import numpy as np"
   ]
  },
  {
   "cell_type": "code",
   "execution_count": 3,
   "id": "c79e77cc",
   "metadata": {},
   "outputs": [],
   "source": [
    "yanki_df = pd.read_csv(r'dataset\\raw_data\\yanki_ecommerce.csv')"
   ]
  },
  {
   "cell_type": "code",
   "execution_count": null,
   "id": "96b0c239",
   "metadata": {},
   "outputs": [],
   "source": [
    "yanki_df.info()\n"
   ]
  },
  {
   "cell_type": "code",
   "execution_count": 4,
   "id": "7db1d046",
   "metadata": {},
   "outputs": [],
   "source": [
    "yanki_df.dropna(subset= ['Customer_ID', 'Order_ID', 'State'], inplace=True)"
   ]
  },
  {
   "cell_type": "code",
   "execution_count": null,
   "id": "33ab87ab",
   "metadata": {},
   "outputs": [],
   "source": [
    "yanki_df.info()"
   ]
  },
  {
   "cell_type": "code",
   "execution_count": 5,
   "id": "cae4ec43",
   "metadata": {},
   "outputs": [],
   "source": [
    "yanki_df['Order_Date'] = pd.to_datetime(yanki_df['Order_Date'], dayfirst=True)\n"
   ]
  },
  {
   "cell_type": "code",
   "execution_count": null,
   "id": "022b1522",
   "metadata": {},
   "outputs": [],
   "source": [
    "yanki_df.info()"
   ]
  },
  {
   "cell_type": "code",
   "execution_count": null,
   "id": "404188ba",
   "metadata": {},
   "outputs": [],
   "source": [
    "customer_df = yanki_df[['Customer_ID', 'Customer_Name', 'Phone_Number', 'Email']].copy().drop_duplicates().reset_index(drop=True)\n",
    "customer_df.tail()"
   ]
  },
  {
   "cell_type": "code",
   "execution_count": null,
   "id": "c3a2cbc8",
   "metadata": {},
   "outputs": [],
   "source": [
    "product_df = yanki_df[['Product_ID', 'Product_Name', 'Category', 'Brand', 'Price']].copy().drop_duplicates().reset_index(drop=True)\n",
    "product_df.head()"
   ]
  },
  {
   "cell_type": "code",
   "execution_count": null,
   "id": "74f6d9f4",
   "metadata": {},
   "outputs": [],
   "source": [
    "shipping_df = yanki_df[['Customer_ID', 'Country', 'State', 'City', 'Shipping_Address', 'Postal_Code']].copy().drop_duplicates().reset_index(drop=True)\n",
    "shipping_df.index.name = 'Shipping_ID'\n",
    "shipping_df = shipping_df.reset_index()\n",
    "shipping_df.head(4)"
   ]
  },
  {
   "cell_type": "code",
   "execution_count": null,
   "id": "0e9f849b",
   "metadata": {},
   "outputs": [],
   "source": [
    "Order_df = yanki_df[['Order_ID', 'Customer_ID', 'Product_ID', 'Order_Date', 'Total_Price', 'Quantity']].copy().drop_duplicates().reset_index(drop=True)\n",
    "Order_df.tail(5)"
   ]
  },
  {
   "cell_type": "code",
   "execution_count": null,
   "id": "7b874d69",
   "metadata": {},
   "outputs": [],
   "source": [
    "payment_df = yanki_df[[ 'Order_ID', 'Payment_Method', 'Transaction_Status']].copy().drop_duplicates().reset_index(drop=True)\n",
    "payment_df.head(5)"
   ]
  },
  {
   "cell_type": "code",
   "execution_count": 9,
   "id": "c703afc0",
   "metadata": {},
   "outputs": [
    {
     "data": {
      "text/plain": [
       "Index(['Order_ID', 'Customer_ID', 'Customer_Name', 'Product_ID',\n",
       "       'Product_Name', 'Brand', 'Category', 'Price', 'Quantity', 'Total_Price',\n",
       "       'Order_Date', 'Shipping_Address', 'City', 'State', 'Country',\n",
       "       'Postal_Code', 'Email', 'Phone_Number', 'Payment_Method',\n",
       "       'Transaction_Status'],\n",
       "      dtype='object')"
      ]
     },
     "execution_count": 9,
     "metadata": {},
     "output_type": "execute_result"
    }
   ],
   "source": [
    "yanki_df.columns"
   ]
  },
  {
   "cell_type": "code",
   "execution_count": 14,
   "id": "fd3c58b7",
   "metadata": {},
   "outputs": [],
   "source": [
    "customer_df.to_csv(r'dataset/clean_data/Customers.csv', index=False)\n",
    "shipping_df.to_csv(r'dataset/clean_data/Shipping.csv', index=False)\n",
    "Order_df.to_csv(r'dataset/clean_data/Order.csv', index=False)\n",
    "payment_df.to_csv(r'dataset/clean_data/Payment.csv', index=False)\n",
    "product_df.to_csv(r'dataset/clean_data/Product.csv', index=False)"
   ]
  },
  {
   "cell_type": "markdown",
   "id": "885f32b7",
   "metadata": {},
   "source": [
    "### Data Loading"
   ]
  },
  {
   "cell_type": "code",
   "execution_count": null,
   "id": "e4dea988",
   "metadata": {},
   "outputs": [],
   "source": [
    "!pip install psycopg2"
   ]
  },
  {
   "cell_type": "code",
   "execution_count": 10,
   "id": "d6f4e029",
   "metadata": {},
   "outputs": [],
   "source": [
    "import psycopg2"
   ]
  },
  {
   "cell_type": "code",
   "execution_count": 11,
   "id": "db69068b",
   "metadata": {},
   "outputs": [],
   "source": [
    "def get_db_connection ():\n",
    "    connection = psycopg2.connect(\n",
    "       host = 'localhost',\n",
    "       database = 'yanki_ecommerce',\n",
    "       user = 'postgres',\n",
    "       password = 'Cisco123'\n",
    "    )\n",
    "    return connection"
   ]
  },
  {
   "cell_type": "code",
   "execution_count": 18,
   "id": "de1fa91c",
   "metadata": {},
   "outputs": [],
   "source": [
    "conn = get_db_connection()"
   ]
  },
  {
   "cell_type": "code",
   "execution_count": null,
   "id": "1c5ff58c",
   "metadata": {},
   "outputs": [],
   "source": [
    "def create_tables():\n",
    "    conn = get_db_connection()\n",
    "    cursor = conn.cursor()\n",
    "    create_table_query = ''' \n",
    "                            CREATE SCHEMA IF NOT EXISTS yanki;\n",
    "                            \n",
    "                            DROP TABLE IF EXISTS yanki.customers CASCADE;\n",
    "                            DROP TABLE IF EXISTS yanki.products CASCADE;\n",
    "                            DROP TABLE IF EXISTS yanki.shipping CASCADE;\n",
    "                            DROP TABLE IF EXISTS yanki.orders CASCADE;\n",
    "                            DROP TABLE IF EXISTS yanki.payment CASCADE;\n",
    "                            \n",
    "                            CREATE TABLE IF NOT EXISTS yanki.customers (\n",
    "                                Customer_ID UUID PRIMARY KEY,\n",
    "                                Customer_Name TEXT,\n",
    "                                Phone_NUmber TEXT,\n",
    "                                Email TEXT\n",
    "                            );\n",
    "\n",
    "                            CREATE TABLE IF NOT EXISTS yanki.products (\n",
    "                                Product_ID UUID PRIMARY KEY,\n",
    "                                Product_Name TEXT,\n",
    "                                Category TEXT,\n",
    "                                Brand TEXT,\n",
    "                                Price FLOAT\n",
    "                            );\n",
    "                            \n",
    "                            CREATE TABLE IF NOT EXISTS yanki.shipping (\n",
    "                                Shipping_ID INTEGER PRIMARY KEY,\n",
    "                                Customer_ID UUID,\n",
    "                                Country TEXT,\n",
    "                                State TEXT,\n",
    "                                City TEXT,\n",
    "                                Shipping_Address TEXT,\n",
    "                                Postal_Code TEXT,\n",
    "                                FOREIGN KEY (Customer_ID) references yanki.customers(Customer_ID)\n",
    "                            );\n",
    "                            \n",
    "                            CREATE TABLE IF NOT EXISTS yanki.orders (\n",
    "                                Order_ID UUID PRIMARY KEY,\n",
    "                                Customer_ID UUID,\n",
    "                                Product_ID UUID,\n",
    "                                Order_Date DATE,\n",
    "                                Total_Price DECIMAL,\n",
    "                                Quantity INTEGER,\n",
    "                                FOREIGN KEY(Product_ID) references yanki.products(Product_ID), \n",
    "                                FOREIGN KEY(Customer_ID) references yanki.customers(Customer_ID) \n",
    "\n",
    "                            );\n",
    "                            \n",
    "                            CREATE TABLE IF NOT EXISTS yanki.payment (\n",
    "                                Order_ID UUID,\n",
    "                                Payment_Method TEXT,\n",
    "                                Transaction_Status TEXT,\n",
    "                                FOREIGN KEY(Order_ID) references yanki.orders(Order_ID)\n",
    "                            );'''\n",
    "                            \n",
    "    cursor.execute(create_table_query)\n",
    "    conn.commit()\n",
    "    cursor.close()\n",
    "    conn.close()\n"
   ]
  },
  {
   "cell_type": "code",
   "execution_count": 91,
   "id": "a5fc255c",
   "metadata": {},
   "outputs": [],
   "source": [
    "create_tables()"
   ]
  },
  {
   "cell_type": "code",
   "execution_count": 92,
   "id": "ed0e59b6",
   "metadata": {},
   "outputs": [],
   "source": [
    "import csv\n",
    "def load_data_from_csv(csv_path):\n",
    "    conn = get_db_connection()\n",
    "    cursor = conn.cursor()\n",
    "    with open(csv_path, 'r') as file:\n",
    "        reader = csv.reader(file)\n",
    "        next(reader)\n",
    "        for row in reader:\n",
    "            cursor.execute(''' \n",
    "                           INSERT INTO yanki.customers (Customer_ID, Customer_Name, Phone_NUmber, Email)\n",
    "                           VALUES (%s, %s, %s, %s);''',\n",
    "                           row  \n",
    "                        ) \n",
    "    conn.commit()\n",
    "    cursor.close()\n",
    "    conn.close()\n",
    "    \n",
    "csv_file_path = r'dataset\\clean_data\\Customers.csv'\n",
    "load_data_from_csv(csv_file_path)\n",
    "    "
   ]
  },
  {
   "cell_type": "code",
   "execution_count": 93,
   "id": "9bbbe296",
   "metadata": {},
   "outputs": [],
   "source": [
    "import csv\n",
    "def load_data_from_csv(csv_path):\n",
    "    conn = get_db_connection()\n",
    "    cursor = conn.cursor()\n",
    "    with open(csv_path, 'r') as file:\n",
    "        reader = csv.reader(file)\n",
    "        next(reader)\n",
    "        for row in reader:\n",
    "            cursor.execute(''' \n",
    "                           INSERT INTO yanki.products (Product_ID, Product_Name, Category, Brand, Price)\n",
    "                           VALUES (%s, %s, %s, %s, %s);''',\n",
    "                           row  \n",
    "                        ) \n",
    "    conn.commit()\n",
    "    cursor.close()\n",
    "    conn.close()\n",
    "    \n",
    "csv_file_path = r'dataset\\clean_data\\Product.csv'\n",
    "load_data_from_csv(csv_file_path)\n",
    "    "
   ]
  },
  {
   "cell_type": "code",
   "execution_count": 94,
   "id": "28b6b2ce",
   "metadata": {},
   "outputs": [],
   "source": [
    "import csv\n",
    "def load_data_from_csv(csv_path):\n",
    "    conn = get_db_connection()\n",
    "    cursor = conn.cursor()\n",
    "    with open(csv_path, 'r') as file:\n",
    "        reader = csv.reader(file)\n",
    "        next(reader)\n",
    "        for row in reader:\n",
    "            cursor.execute(''' \n",
    "                           INSERT INTO yanki.shipping (Shipping_ID, Customer_ID, Country, State, City, Shipping_Address, Postal_Code)\n",
    "                           VALUES (%s, %s, %s, %s, %s, %s, %s);''',\n",
    "                           row  \n",
    "                        ) \n",
    "    conn.commit()\n",
    "    cursor.close()\n",
    "    conn.close()\n",
    "    \n",
    "csv_file_path = r'dataset\\clean_data\\Shipping.csv'\n",
    "load_data_from_csv(csv_file_path)\n",
    "    "
   ]
  },
  {
   "cell_type": "code",
   "execution_count": 95,
   "id": "378cb99e",
   "metadata": {},
   "outputs": [],
   "source": [
    "import csv\n",
    "def load_data_from_csv(csv_path):\n",
    "    conn = get_db_connection()\n",
    "    cursor = conn.cursor()\n",
    "    with open(csv_path, 'r') as file:\n",
    "        reader = csv.reader(file)\n",
    "        next(reader)\n",
    "        for row in reader:\n",
    "            cursor.execute(''' \n",
    "                           INSERT INTO yanki.orders(Order_ID, Customer_ID, Product_ID, Order_Date, Total_Price, Quantity)\n",
    "                           VALUES (%s, %s, %s, %s, %s, %s);''',\n",
    "                           row  \n",
    "                        ) \n",
    "    conn.commit()\n",
    "    cursor.close()\n",
    "    conn.close()\n",
    "    \n",
    "csv_file_path = r'dataset\\clean_data\\Order.csv'\n",
    "load_data_from_csv(csv_file_path)\n",
    "    "
   ]
  },
  {
   "cell_type": "code",
   "execution_count": 97,
   "id": "503d6790",
   "metadata": {},
   "outputs": [
    {
     "ename": "UniqueViolation",
     "evalue": "duplicate key value violates unique constraint \"payment_pkey\"\nDETAIL:  Key (order_id)=(e32af09a-b6ab-497e-af3a-331e4d4ed6e7) already exists.\n",
     "output_type": "error",
     "traceback": [
      "\u001b[1;31m---------------------------------------------------------------------------\u001b[0m",
      "\u001b[1;31mUniqueViolation\u001b[0m                           Traceback (most recent call last)",
      "Cell \u001b[1;32mIn[97], line 19\u001b[0m\n\u001b[0;32m     16\u001b[0m     conn\u001b[38;5;241m.\u001b[39mclose()\n\u001b[0;32m     18\u001b[0m csv_file_path \u001b[38;5;241m=\u001b[39m \u001b[38;5;124mr\u001b[39m\u001b[38;5;124m'\u001b[39m\u001b[38;5;124mdataset\u001b[39m\u001b[38;5;124m\\\u001b[39m\u001b[38;5;124mclean_data\u001b[39m\u001b[38;5;124m\\\u001b[39m\u001b[38;5;124mPayment.csv\u001b[39m\u001b[38;5;124m'\u001b[39m\n\u001b[1;32m---> 19\u001b[0m load_data_from_csv(csv_file_path)\n",
      "Cell \u001b[1;32mIn[97], line 9\u001b[0m, in \u001b[0;36mload_data_from_csv\u001b[1;34m(csv_path)\u001b[0m\n\u001b[0;32m      7\u001b[0m     \u001b[38;5;28mnext\u001b[39m(reader)\n\u001b[0;32m      8\u001b[0m     \u001b[38;5;28;01mfor\u001b[39;00m row \u001b[38;5;129;01min\u001b[39;00m reader:\n\u001b[1;32m----> 9\u001b[0m         cursor\u001b[38;5;241m.\u001b[39mexecute(\u001b[38;5;124m'''\u001b[39m\u001b[38;5;124m \u001b[39m\n\u001b[0;32m     10\u001b[0m \u001b[38;5;124m                       INSERT INTO yanki.payment (Order_ID, Payment_Method, Transaction_Status)\u001b[39m\n\u001b[0;32m     11\u001b[0m \u001b[38;5;124m                       VALUES (\u001b[39m\u001b[38;5;132;01m%s\u001b[39;00m\u001b[38;5;124m, \u001b[39m\u001b[38;5;132;01m%s\u001b[39;00m\u001b[38;5;124m, \u001b[39m\u001b[38;5;132;01m%s\u001b[39;00m\u001b[38;5;124m);\u001b[39m\u001b[38;5;124m'''\u001b[39m,\n\u001b[0;32m     12\u001b[0m                        row  \n\u001b[0;32m     13\u001b[0m                     ) \n\u001b[0;32m     14\u001b[0m conn\u001b[38;5;241m.\u001b[39mcommit()\n\u001b[0;32m     15\u001b[0m cursor\u001b[38;5;241m.\u001b[39mclose()\n",
      "\u001b[1;31mUniqueViolation\u001b[0m: duplicate key value violates unique constraint \"payment_pkey\"\nDETAIL:  Key (order_id)=(e32af09a-b6ab-497e-af3a-331e4d4ed6e7) already exists.\n"
     ]
    }
   ],
   "source": [
    "import csv\n",
    "def load_data_from_csv(csv_path):\n",
    "    conn = get_db_connection()\n",
    "    cursor = conn.cursor()\n",
    "    with open(csv_path, 'r') as file:\n",
    "        reader = csv.reader(file)\n",
    "        next(reader)\n",
    "        for row in reader:\n",
    "            cursor.execute(''' \n",
    "                           INSERT INTO yanki.payment (Order_ID, Payment_Method, Transaction_Status)\n",
    "                           VALUES (%s, %s, %s);''',\n",
    "                           row  \n",
    "                        ) \n",
    "    conn.commit()\n",
    "    cursor.close()\n",
    "    conn.close()\n",
    "    \n",
    "csv_file_path = r'dataset\\clean_data\\Payment.csv'\n",
    "load_data_from_csv(csv_file_path)\n",
    "    "
   ]
  },
  {
   "cell_type": "code",
   "execution_count": null,
   "id": "07c11a38",
   "metadata": {},
   "outputs": [
    {
     "data": {
      "text/plain": [
       "Index(['Product_ID', 'Product_Name', 'Category', 'Brand', 'Price'], dtype='object')"
      ]
     },
     "execution_count": 32,
     "metadata": {},
     "output_type": "execute_result"
    }
   ],
   "source": []
  },
  {
   "cell_type": "code",
   "execution_count": null,
   "id": "6ac14c31",
   "metadata": {},
   "outputs": [],
   "source": []
  },
  {
   "cell_type": "code",
   "execution_count": null,
   "id": "2a1b10b3",
   "metadata": {},
   "outputs": [],
   "source": []
  }
 ],
 "metadata": {
  "kernelspec": {
   "display_name": "base",
   "language": "python",
   "name": "python3"
  },
  "language_info": {
   "codemirror_mode": {
    "name": "ipython",
    "version": 3
   },
   "file_extension": ".py",
   "mimetype": "text/x-python",
   "name": "python",
   "nbconvert_exporter": "python",
   "pygments_lexer": "ipython3",
   "version": "3.13.5"
  }
 },
 "nbformat": 4,
 "nbformat_minor": 5
}
