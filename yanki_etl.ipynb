{
 "cells": [
  {
   "cell_type": "markdown",
   "id": "50ae5f42",
   "metadata": {},
   "source": [
    "### data cleaning"
   ]
  },
  {
   "cell_type": "code",
   "execution_count": 2,
   "id": "3c71b4fc",
   "metadata": {},
   "outputs": [],
   "source": [
    "import pandas as pd\n",
    "import numpy as np"
   ]
  },
  {
   "cell_type": "code",
   "execution_count": 3,
   "id": "c79e77cc",
   "metadata": {},
   "outputs": [],
   "source": [
    "yanki_df = pd.read_csv(r'dataset\\raw_data\\yanki_ecommerce.csv')"
   ]
  },
  {
   "cell_type": "code",
   "execution_count": 4,
   "id": "96b0c239",
   "metadata": {},
   "outputs": [
    {
     "name": "stdout",
     "output_type": "stream",
     "text": [
      "<class 'pandas.core.frame.DataFrame'>\n",
      "RangeIndex: 1020 entries, 0 to 1019\n",
      "Data columns (total 20 columns):\n",
      " #   Column              Non-Null Count  Dtype  \n",
      "---  ------              --------------  -----  \n",
      " 0   Order_ID            1000 non-null   object \n",
      " 1   Customer_ID         1000 non-null   object \n",
      " 2   Customer_Name       1000 non-null   object \n",
      " 3   Product_ID          1020 non-null   object \n",
      " 4   Product_Name        1020 non-null   object \n",
      " 5   Brand               1020 non-null   object \n",
      " 6   Category            1020 non-null   object \n",
      " 7   Price               1020 non-null   float64\n",
      " 8   Quantity            1020 non-null   int64  \n",
      " 9   Total_Price         1020 non-null   float64\n",
      " 10  Order_Date          1020 non-null   object \n",
      " 11  Shipping_Address    1020 non-null   object \n",
      " 12  City                1020 non-null   object \n",
      " 13  State               1019 non-null   object \n",
      " 14  Country             1020 non-null   object \n",
      " 15  Postal_Code         1020 non-null   int64  \n",
      " 16  Email               1020 non-null   object \n",
      " 17  Phone_Number        1020 non-null   object \n",
      " 18  Payment_Method      1020 non-null   object \n",
      " 19  Transaction_Status  1020 non-null   object \n",
      "dtypes: float64(2), int64(2), object(16)\n",
      "memory usage: 159.5+ KB\n"
     ]
    }
   ],
   "source": [
    "yanki_df.info()\n"
   ]
  },
  {
   "cell_type": "code",
   "execution_count": 5,
   "id": "7db1d046",
   "metadata": {},
   "outputs": [],
   "source": [
    "yanki_df.dropna(subset= ['Customer_ID', 'Order_ID', 'State'], inplace=True)"
   ]
  },
  {
   "cell_type": "code",
   "execution_count": 6,
   "id": "33ab87ab",
   "metadata": {},
   "outputs": [
    {
     "name": "stdout",
     "output_type": "stream",
     "text": [
      "<class 'pandas.core.frame.DataFrame'>\n",
      "Index: 999 entries, 2 to 1019\n",
      "Data columns (total 20 columns):\n",
      " #   Column              Non-Null Count  Dtype  \n",
      "---  ------              --------------  -----  \n",
      " 0   Order_ID            999 non-null    object \n",
      " 1   Customer_ID         999 non-null    object \n",
      " 2   Customer_Name       999 non-null    object \n",
      " 3   Product_ID          999 non-null    object \n",
      " 4   Product_Name        999 non-null    object \n",
      " 5   Brand               999 non-null    object \n",
      " 6   Category            999 non-null    object \n",
      " 7   Price               999 non-null    float64\n",
      " 8   Quantity            999 non-null    int64  \n",
      " 9   Total_Price         999 non-null    float64\n",
      " 10  Order_Date          999 non-null    object \n",
      " 11  Shipping_Address    999 non-null    object \n",
      " 12  City                999 non-null    object \n",
      " 13  State               999 non-null    object \n",
      " 14  Country             999 non-null    object \n",
      " 15  Postal_Code         999 non-null    int64  \n",
      " 16  Email               999 non-null    object \n",
      " 17  Phone_Number        999 non-null    object \n",
      " 18  Payment_Method      999 non-null    object \n",
      " 19  Transaction_Status  999 non-null    object \n",
      "dtypes: float64(2), int64(2), object(16)\n",
      "memory usage: 163.9+ KB\n"
     ]
    }
   ],
   "source": [
    "yanki_df.info()"
   ]
  },
  {
   "cell_type": "code",
   "execution_count": 7,
   "id": "cae4ec43",
   "metadata": {},
   "outputs": [],
   "source": [
    "yanki_df['Order_Date'] = pd.to_datetime(yanki_df['Order_Date'], dayfirst=True)\n"
   ]
  },
  {
   "cell_type": "code",
   "execution_count": 8,
   "id": "022b1522",
   "metadata": {},
   "outputs": [
    {
     "name": "stdout",
     "output_type": "stream",
     "text": [
      "<class 'pandas.core.frame.DataFrame'>\n",
      "Index: 999 entries, 2 to 1019\n",
      "Data columns (total 20 columns):\n",
      " #   Column              Non-Null Count  Dtype         \n",
      "---  ------              --------------  -----         \n",
      " 0   Order_ID            999 non-null    object        \n",
      " 1   Customer_ID         999 non-null    object        \n",
      " 2   Customer_Name       999 non-null    object        \n",
      " 3   Product_ID          999 non-null    object        \n",
      " 4   Product_Name        999 non-null    object        \n",
      " 5   Brand               999 non-null    object        \n",
      " 6   Category            999 non-null    object        \n",
      " 7   Price               999 non-null    float64       \n",
      " 8   Quantity            999 non-null    int64         \n",
      " 9   Total_Price         999 non-null    float64       \n",
      " 10  Order_Date          999 non-null    datetime64[ns]\n",
      " 11  Shipping_Address    999 non-null    object        \n",
      " 12  City                999 non-null    object        \n",
      " 13  State               999 non-null    object        \n",
      " 14  Country             999 non-null    object        \n",
      " 15  Postal_Code         999 non-null    int64         \n",
      " 16  Email               999 non-null    object        \n",
      " 17  Phone_Number        999 non-null    object        \n",
      " 18  Payment_Method      999 non-null    object        \n",
      " 19  Transaction_Status  999 non-null    object        \n",
      "dtypes: datetime64[ns](1), float64(2), int64(2), object(15)\n",
      "memory usage: 163.9+ KB\n"
     ]
    }
   ],
   "source": [
    "yanki_df.info()"
   ]
  },
  {
   "cell_type": "code",
   "execution_count": null,
   "id": "404188ba",
   "metadata": {},
   "outputs": [],
   "source": []
  }
 ],
 "metadata": {
  "kernelspec": {
   "display_name": "base",
   "language": "python",
   "name": "python3"
  },
  "language_info": {
   "codemirror_mode": {
    "name": "ipython",
    "version": 3
   },
   "file_extension": ".py",
   "mimetype": "text/x-python",
   "name": "python",
   "nbconvert_exporter": "python",
   "pygments_lexer": "ipython3",
   "version": "3.13.5"
  }
 },
 "nbformat": 4,
 "nbformat_minor": 5
}
